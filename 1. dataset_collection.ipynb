{
 "cells": [
  {
   "cell_type": "markdown",
   "metadata": {},
   "source": [
    "Before running this notebook, download and extract train images into `./charteye/train` from: https://www.kaggle.com/datasets/pranithchowdary/icpr-2022?resource=download-directory"
   ]
  },
  {
   "cell_type": "code",
   "execution_count": 9,
   "metadata": {},
   "outputs": [],
   "source": [
    "import numpy as np\n",
    "import os\n",
    "from torchvision import datasets, transforms\n",
    "from torch.utils.data import DataLoader\n",
    "from datasets import load_dataset\n",
    "from sklearn.model_selection import train_test_split\n",
    "from torchvision.datasets import ImageFolder\n",
    "from PIL import Image\n",
    "\n",
    "train_path = \"./charteye/train\"\n",
    "save_folder = \"./dataset\"\n",
    "os.makedirs(save_folder, exist_ok=True)"
   ]
  },
  {
   "cell_type": "code",
   "execution_count": 4,
   "metadata": {},
   "outputs": [
    {
     "name": "stdout",
     "output_type": "stream",
     "text": [
      "Loading datasets...\n",
      "Sampling 20009 examples from DomainNet...\n"
     ]
    }
   ],
   "source": [
    "# Constants\n",
    "GENERAL_CLASS_SAMPLE_SIZE = 30000\n",
    "CHART_CLASS = 1\n",
    "GENERAL_CLASS = 0\n",
    "\n",
    "# 1. Load PACS, DomainNet, and Charteye datasets\n",
    "print(\"Loading datasets...\")\n",
    "pacs_dataset = load_dataset(\"flwrlabs/pacs\", split=\"train\")['image']\n",
    "domainnet_dataset = load_dataset(\"wltjr1007/DomainNet\", split=\"train\")\n",
    "charteye_dataset = ImageFolder(\"./charteye/train\")\n",
    "\n",
    "# Determine sizes for sampling\n",
    "domainnet_sample_size = GENERAL_CLASS_SAMPLE_SIZE - len(pacs_dataset)\n",
    "\n",
    "# 2. Stratified sampling from DomainNet to get balanced final classes\n",
    "print(f\"Sampling {domainnet_sample_size} examples from DomainNet...\")\n",
    "sampled_indices, _ = train_test_split(\n",
    "    range(len(domainnet_dataset)),\n",
    "    train_size=domainnet_sample_size,\n",
    "    stratify=domainnet_dataset['domain'],\n",
    "    random_state=42\n",
    ")\n",
    "domainnet_sampled = domainnet_dataset[sorted(sampled_indices)]['image']"
   ]
  },
  {
   "cell_type": "code",
   "execution_count": 12,
   "metadata": {},
   "outputs": [
    {
     "name": "stdout",
     "output_type": "stream",
     "text": [
      "Saving ChartEye dataset...\n",
      "Saving DomainNet dataset...\n",
      "Saving PACS dataset...\n"
     ]
    }
   ],
   "source": [
    "print(\"Saving ChartEye dataset...\")\n",
    "save_dir = os.path.join(save_folder, str(CHART_CLASS))\n",
    "os.makedirs(save_dir, exist_ok=True)\n",
    "for img, _ in charteye_dataset:\n",
    "    img.save(os.path.join(save_dir, str(len(os.listdir(save_dir)))+'.jpg'))\n",
    "\n",
    "print(\"Saving DomainNet dataset...\")\n",
    "save_dir = os.path.join(save_folder, str(GENERAL_CLASS))\n",
    "os.makedirs(save_dir, exist_ok=True)\n",
    "for img in domainnet_sampled:\n",
    "    img.save(os.path.join(save_dir, str(len(os.listdir(save_dir)))+'.jpg'))\n",
    "\n",
    "print(\"Saving PACS dataset...\")\n",
    "for img in pacs_dataset:\n",
    "    img.save(os.path.join(save_dir, str(len(os.listdir(save_dir)))+'.jpg'))"
   ]
  },
  {
   "cell_type": "code",
   "execution_count": null,
   "metadata": {},
   "outputs": [],
   "source": []
  }
 ],
 "metadata": {
  "kernelspec": {
   "display_name": "Python 3",
   "language": "python",
   "name": "python3"
  },
  "language_info": {
   "codemirror_mode": {
    "name": "ipython",
    "version": 3
   },
   "file_extension": ".py",
   "mimetype": "text/x-python",
   "name": "python",
   "nbconvert_exporter": "python",
   "pygments_lexer": "ipython3",
   "version": "3.11.7"
  }
 },
 "nbformat": 4,
 "nbformat_minor": 2
}
